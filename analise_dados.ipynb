{
 "cells": [
  {
   "cell_type": "code",
   "execution_count": null,
   "metadata": {},
   "outputs": [],
   "source": [
    "import pandas as pd\n",
    "from sklearn.preprocessing import LabelEncoder\n",
    "from sklearn.model_selection import train_test_split\n",
    "from sklearn.ensemble import RandomForestClassifier\n",
    "from sklearn.neighbors import KNeighborsClassifier\n",
    "from sklearn.metrics import accuracy_score\n",
    "\n",
    "# Importa a base de dados\n",
    "tabela = pd.read_csv('clientes.csv')\n",
    "display(tabela)"
   ]
  },
  {
   "cell_type": "code",
   "execution_count": null,
   "metadata": {},
   "outputs": [],
   "source": [
    "# Verificar se temos valores vazios ou valores reconhecido em formato errado\n",
    "print(tabela.info())\n",
    "print(tabela.columns)"
   ]
  },
  {
   "cell_type": "code",
   "execution_count": null,
   "metadata": {},
   "outputs": [],
   "source": [
    "# vai transformar as coluna de texto em números\n",
    "codificador = LabelEncoder()\n",
    "\n",
    "# só não aplicamos na coluna de score_crédito que é o nosso objetivo\n",
    "for coluna in tabela.columns:\n",
    " if tabela[coluna].dtype == 'object' and coluna != 'score_credito':\n",
    "  tabela[coluna] = codificador.fit_transform(tabela[coluna])\n",
    "  \n",
    "# verificando se realmente todas as colunas foram modificadas\n",
    "for coluna in tabela.columns:\n",
    " if tabela[coluna].dtype == 'object' and coluna != 'score_credito':\n",
    "  print(coluna)\n",
    "  \n",
    "display(tabela)  "
   ]
  },
  {
   "cell_type": "code",
   "execution_count": null,
   "metadata": {},
   "outputs": [],
   "source": [
    "# escolhendo quais coluans vamos usar para treinar o modelo\n",
    "# y é a coluna que queremos que o modelo calcule\n",
    "# x é a coluna que vamos usar para prever o score de crédito\n",
    "x = tabela.drop(['score_credito', 'id_cliente'], axis=1)\n",
    "y = tabela['score_credito']\n",
    "\n",
    "# separamos os dados em treino e teste.\n",
    "# Treino vamos dar para os modelos aprenderem e teste vamos usar para ver se o modelo aprendeu corretamente\n",
    "x_treino, x_teste, y_treino, y_teste = train_test_split(x, y, test_size=0.3, random_state=1) "
   ]
  },
  {
   "cell_type": "code",
   "execution_count": null,
   "metadata": {},
   "outputs": [],
   "source": [
    "modelo_arvore = RandomForestClassifier() # modelo arvore de decisao\n",
    "modelo_knn = KNeighborsClassifier() # modelo do KNN (nearest neighbors - vizinhos mais próximos)\n",
    "\n",
    "# Treinando os modelos\n",
    "modelo_arvore.fit(x_treino, y_treino)\n",
    "modelo_knn.fit(x_treino, y_treino)"
   ]
  },
  {
   "cell_type": "code",
   "execution_count": null,
   "metadata": {},
   "outputs": [],
   "source": [
    "# Se o nosso modelo chutasse tudo 'Standard', qual seria a acurácia do modelo?\n",
    "contagem_scores = tabela['score_credito'].value_counts()\n",
    "print(contagem_scores['Standard'] / sum(contagem_scores))"
   ]
  },
  {
   "cell_type": "code",
   "execution_count": null,
   "metadata": {},
   "outputs": [],
   "source": [
    "# Calculamos as previsões\n",
    "previsao_arvore = modelo_arvore.predict(x_teste)\n",
    "previsao_knn = modelo_knn.predict(x_teste.to_numpy())\n",
    "\n",
    "# Comparamos as previsões com o y_teste\n",
    "# esse score queremos o maior (maior acuracia, mas também tem que ser maior do que o chute de todo Standard)\n",
    "print(accuracy_score(y_teste, previsao_arvore))\n",
    "print(accuracy_score(y_teste, previsao_knn))"
   ]
  },
  {
   "cell_type": "code",
   "execution_count": null,
   "metadata": {},
   "outputs": [],
   "source": [
    "# quais as caracteristicas mais importantes para definir o score de crédito?\n",
    "columns = list(x_teste.columns)\n",
    "importancia = pd.DataFrame(index=columns, data=modelo_arvore.feature_importances_)\n",
    "importancia = importancia * 100\n",
    "print(importancia)"
   ]
  }
 ],
 "metadata": {
  "kernelspec": {
   "display_name": "venv",
   "language": "python",
   "name": "python3"
  },
  "language_info": {
   "codemirror_mode": {
    "name": "ipython",
    "version": 3
   },
   "file_extension": ".py",
   "mimetype": "text/x-python",
   "name": "python",
   "nbconvert_exporter": "python",
   "pygments_lexer": "ipython3",
   "version": "3.10.12"
  }
 },
 "nbformat": 4,
 "nbformat_minor": 2
}
